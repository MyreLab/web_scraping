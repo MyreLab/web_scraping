{
 "cells": [
  {
   "cell_type": "code",
   "execution_count": 1,
   "metadata": {},
   "outputs": [
    {
     "data": {
      "text/plain": [
       "'\\nTo add notes here TBD\\n'"
      ]
     },
     "execution_count": 1,
     "metadata": {},
     "output_type": "execute_result"
    }
   ],
   "source": [
    "'''\n",
    "To add notes here TBD\n",
    "'''"
   ]
  },
  {
   "cell_type": "code",
   "execution_count": 2,
   "metadata": {},
   "outputs": [],
   "source": [
    "def get_us_sector_performance():\n",
    "    \n",
    "    import requests\n",
    "    from bs4 import BeautifulSoup\n",
    "    \n",
    "    output_list = list()\n",
    "    url = \"https://eresearch.fidelity.com/eresearch/goto/markets_sectors/landing.jhtml\"\n",
    "    \n",
    "    root_url = 'https://eresearch.fidelity.com/' \n",
    "    page = requests.get(url)\n",
    "    soup = BeautifulSoup(page.content, 'html.parser')\n",
    "    sector_link_html = soup.find('table',{'class':'sector-list'}).find_all('div',{'class':'heading'})    \n",
    "    \n",
    "    links = list()\n",
    "    for html in sector_link_html:\n",
    "        links.append(root_url + html.find('a',{'class':'heading1'}).get('href').replace('§','&sect'))  \n",
    "    \n",
    "    for link in links:\n",
    "        output_list.append(get_sector_change_and_market_cap(link))\n",
    "        \n",
    "    output_list.sort(key=lambda k: k[3], reverse=True)\n",
    "    \n",
    "    return output_list\n",
    "    "
   ]
  },
  {
   "cell_type": "code",
   "execution_count": 3,
   "metadata": {},
   "outputs": [],
   "source": [
    "def get_sector_change_and_market_cap(sector_page_link):\n",
    "    \n",
    "    import requests\n",
    "    from bs4 import BeautifulSoup\n",
    "\n",
    "    page_sector = requests.get(sector_page_link)\n",
    "    soup = BeautifulSoup(page_sector.content, 'html.parser')\n",
    "    sector_detail = soup.find_all('tr')\n",
    "    \n",
    "    sector_change = float(sector_detail[3].text.split()[0].replace('%',\"\"))\n",
    "    sector_market_cap = sector_detail[3].text.split()[5]\n",
    "    sector_market_weight = float(sector_detail[3].text.split()[7].replace('%',\"\"))\n",
    "    sector_name = soup.find('div',{'class':'page-title'}).text.strip()\n",
    "        \n",
    "    return sector_name, sector_change, sector_market_cap, sector_market_weight, sector_page_link"
   ]
  },
  {
   "cell_type": "code",
   "execution_count": 4,
   "metadata": {},
   "outputs": [
    {
     "data": {
      "text/plain": [
       "[('Information Technology',\n",
       "  -0.8,\n",
       "  '$13.21T',\n",
       "  26.49,\n",
       "  'https://eresearch.fidelity.com//eresearch/markets_sectors/sectors/sectors_in_market.jhtml?tab=learn&sector=45'),\n",
       " ('Health Care',\n",
       "  -0.26,\n",
       "  '$7.72T',\n",
       "  14.66,\n",
       "  'https://eresearch.fidelity.com//eresearch/markets_sectors/sectors/sectors_in_market.jhtml?tab=learn&sector=35'),\n",
       " ('Financials',\n",
       "  -0.1,\n",
       "  '$8.38T',\n",
       "  11.72,\n",
       "  'https://eresearch.fidelity.com//eresearch/markets_sectors/sectors/sectors_in_market.jhtml?tab=learn&sector=40'),\n",
       " ('Consumer Discretionary',\n",
       "  -3.11,\n",
       "  '$7.29T',\n",
       "  10.61,\n",
       "  'https://eresearch.fidelity.com//eresearch/markets_sectors/sectors/sectors_in_market.jhtml?tab=learn&sector=25'),\n",
       " ('Industrials',\n",
       "  -0.52,\n",
       "  '$5.52T',\n",
       "  8.38,\n",
       "  'https://eresearch.fidelity.com//eresearch/markets_sectors/sectors/sectors_in_market.jhtml?tab=learn&sector=20'),\n",
       " ('Communication Services',\n",
       "  -2.22,\n",
       "  '$4.58T',\n",
       "  7.83,\n",
       "  'https://eresearch.fidelity.com//eresearch/markets_sectors/sectors/sectors_in_market.jhtml?tab=learn&sector=50'),\n",
       " ('Consumer Staples',\n",
       "  -0.43,\n",
       "  '$4.08T',\n",
       "  6.71,\n",
       "  'https://eresearch.fidelity.com//eresearch/markets_sectors/sectors/sectors_in_market.jhtml?tab=learn&sector=30'),\n",
       " ('Energy',\n",
       "  -0.23,\n",
       "  '$3.60T',\n",
       "  5.06,\n",
       "  'https://eresearch.fidelity.com//eresearch/markets_sectors/sectors/sectors_in_market.jhtml?tab=learn&sector=10'),\n",
       " ('Utilities',\n",
       "  -2.07,\n",
       "  '$1.56T',\n",
       "  2.94,\n",
       "  'https://eresearch.fidelity.com//eresearch/markets_sectors/sectors/sectors_in_market.jhtml?tab=learn&sector=55'),\n",
       " ('Materials',\n",
       "  -1.82,\n",
       "  '$2.58T',\n",
       "  2.81,\n",
       "  'https://eresearch.fidelity.com//eresearch/markets_sectors/sectors/sectors_in_market.jhtml?tab=learn&sector=15'),\n",
       " ('Real Estate',\n",
       "  -2.03,\n",
       "  '$1.41T',\n",
       "  2.79,\n",
       "  'https://eresearch.fidelity.com//eresearch/markets_sectors/sectors/sectors_in_market.jhtml?tab=learn&sector=60')]"
      ]
     },
     "execution_count": 4,
     "metadata": {},
     "output_type": "execute_result"
    }
   ],
   "source": [
    "#Test get_us_sector_performance()\n",
    "get_us_sector_performance()\n"
   ]
  }
 ],
 "metadata": {
  "kernelspec": {
   "display_name": "Python 3 (ipykernel)",
   "language": "python",
   "name": "python3"
  },
  "language_info": {
   "codemirror_mode": {
    "name": "ipython",
    "version": 3
   },
   "file_extension": ".py",
   "mimetype": "text/x-python",
   "name": "python",
   "nbconvert_exporter": "python",
   "pygments_lexer": "ipython3",
   "version": "3.9.7"
  },
  "toc": {
   "base_numbering": 1,
   "nav_menu": {},
   "number_sections": true,
   "sideBar": true,
   "skip_h1_title": false,
   "title_cell": "Table of Contents",
   "title_sidebar": "Contents",
   "toc_cell": false,
   "toc_position": {},
   "toc_section_display": true,
   "toc_window_display": false
  }
 },
 "nbformat": 4,
 "nbformat_minor": 2
}
